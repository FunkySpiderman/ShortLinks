{
 "cells": [
  {
   "cell_type": "code",
   "execution_count": 1,
   "metadata": {},
   "outputs": [],
   "source": [
    "def conversion(url_larga: str) -> str:\n",
    "    # Code here\n",
    "\n",
    "    url_corta = 'https://bit.ly/36Yvv9W'\n",
    "    return url_corta\n",
    "\n",
    "def add_liga_publica(url_larga, categoria) -> bool:\n",
    "\n",
    "    llaveDic=f'{url_larga}'\n",
    "\n",
    "    # Hacer la conversion liga publica \n",
    "    url_corta = conversion(url_larga)\n",
    "\n",
    "    exito=r.hmset(llaveDic,{'url_corta':url_corta,'categoria':categoria})\n",
    "    # Agregar a redis\n",
    "    return exito\n",
    "\n",
    "def dictBytes_a_dictString(diccionario):\n",
    "  return {k.decode('utf-8'):v.decode('utf-8') for k,v in diccionario.items()}\n",
    "\n"
   ]
  },
  {
   "cell_type": "markdown",
   "metadata": {},
   "source": [
    "# Crear ligas de user\n",
    "\n",
    "CRUD\n",
    "Create\n",
    "Read\n",
    "Update\n",
    "Delete"
   ]
  },
  {
   "cell_type": "code",
   "execution_count": 2,
   "metadata": {},
   "outputs": [],
   "source": [
    "def agregarUser(username,nombre,password):\n",
    "    exito=r.hmset(username,{'nombre':nombre,'password':password})\n",
    "    return exito \n",
    "\n",
    "def add_liga_publica_user(username, url_larga,categoria) -> True:    \n",
    "   # Agregar liga publicas en una estructura de datos \n",
    "   # de conjuntos\n",
    "\n",
    "    # checar si existe user, no se necesita\n",
    "\n",
    "\n",
    "    # También debe agregar a la lista pública\n",
    "    add_liga_publica(url_larga,categoria)\n",
    "    \n",
    "    key_pub_usuario=f'{username}_pub'\n",
    "\n",
    "    exito = r.sadd(key_pub_usuario,url_larga)\n",
    "\n",
    "    return exito\n",
    "\n",
    "def add_liga_privada_user(username, url_larga, categoria) -> True:\n",
    "    # Crear la estructura de liga privada \n",
    "    # y agregar url_larga,url_corta y categoria\n",
    "\n",
    "    # Creamos el set de ligas privadas\n",
    "    \n",
    "    r.sadd(f'lpriv_{username}',url_larga)\n",
    "\n",
    "    # Creamos un diccionario por cada url_larga\n",
    "    url_corta=conversion(url_larga)\n",
    "    \n",
    "    exito = r.hmset(f'{username}_{url_larga}',{'url_corta':url_corta,'categoria':categoria})\n",
    "    return exito\n",
    "\n"
   ]
  },
  {
   "cell_type": "code",
   "execution_count": 3,
   "metadata": {},
   "outputs": [
    {
     "name": "stdout",
     "output_type": "stream",
     "text": [
      "True\n",
      "True\n",
      "True\n",
      "0\n",
      "0\n"
     ]
    },
    {
     "name": "stderr",
     "output_type": "stream",
     "text": [
      "C:\\Users\\Admin\\AppData\\Roaming\\Python\\Python37\\site-packages\\ipykernel_launcher.py:2: DeprecationWarning: Redis.hmset() is deprecated. Use Redis.hset() instead.\n",
      "  \n",
      "C:\\Users\\Admin\\AppData\\Roaming\\Python\\Python37\\site-packages\\ipykernel_launcher.py:32: DeprecationWarning: Redis.hmset() is deprecated. Use Redis.hset() instead.\n",
      "C:\\Users\\Admin\\AppData\\Roaming\\Python\\Python37\\site-packages\\ipykernel_launcher.py:14: DeprecationWarning: Redis.hmset() is deprecated. Use Redis.hset() instead.\n",
      "  \n"
     ]
    }
   ],
   "source": [
    "import redis\n",
    "r = redis.Redis(host=\"127.0.0.1\", port=6379)\n",
    "# r.flushdb()\n",
    "\n",
    "agregarUser('hugol','hugo','1234')\n",
    "print(add_liga_privada_user('hugol','youtube.com','musica'))\n",
    "print(add_liga_privada_user('hugol','youtube2.com','musica'))\n",
    "print(add_liga_privada_user('hugol','youtube1.com','educacion'))\n",
    "# Conjuntos\n",
    "print(add_liga_publica_user('hugol','reddit.com','social'))\n",
    "print(add_liga_publica_user('hugol','reddit.com','social')) # Regresa 0 porque ya existe"
   ]
  },
  {
   "cell_type": "code",
   "execution_count": 4,
   "metadata": {},
   "outputs": [
    {
     "data": {
      "text/plain": [
       "[b'1234']"
      ]
     },
     "execution_count": 4,
     "metadata": {},
     "output_type": "execute_result"
    }
   ],
   "source": [
    "# Read\n",
    "existe = r.hmget('hugol', 'nombre')\n",
    "existe[0] \n",
    "r.hmget('hugol', 'password')\n",
    "#dictBytes_a_dictString()\n",
    "# [si.decode('utf-8') for si in existe]\n",
    "# existe[0].decode('utf-8')"
   ]
  },
  {
   "cell_type": "code",
   "execution_count": 5,
   "metadata": {},
   "outputs": [
    {
     "data": {
      "text/plain": [
       "True"
      ]
     },
     "execution_count": 5,
     "metadata": {},
     "output_type": "execute_result"
    }
   ],
   "source": [
    "not not \" \""
   ]
  },
  {
   "cell_type": "code",
   "execution_count": 6,
   "metadata": {},
   "outputs": [
    {
     "data": {
      "text/plain": [
       "False"
      ]
     },
     "execution_count": 6,
     "metadata": {},
     "output_type": "execute_result"
    }
   ],
   "source": [
    " existe = r.hmget('hugol', '1324')\n",
    " not not existe[0]"
   ]
  },
  {
   "cell_type": "markdown",
   "metadata": {},
   "source": [
    "# Leer ligas user"
   ]
  },
  {
   "cell_type": "code",
   "execution_count": 7,
   "metadata": {},
   "outputs": [
    {
     "data": {
      "text/plain": [
       "({'musica': ['https://bit.ly/36Yvv9W', 'https://bit.ly/36Yvv9W'],\n",
       "  'educacion': ['https://bit.ly/36Yvv9W']},\n",
       " {'social': ['https://bit.ly/36Yvv9W']})"
      ]
     },
     "execution_count": 7,
     "metadata": {},
     "output_type": "execute_result"
    }
   ],
   "source": [
    "# Read\n",
    "\n",
    "def recuperaListas(username):\n",
    "  cjto_url_pri=r.smembers(f'lpriv_{username}')\n",
    "  lista_url_pri=[si.decode('utf-8') for si in cjto_url_pri]\n",
    "\n",
    "  cjto_url_pub=r.smembers(f'{username}_pub')\n",
    "  lista_url_pub=[si.decode('utf-8') for si in cjto_url_pub]\n",
    "\n",
    "  categorias_pri={}\n",
    "  categorias_pub={}\n",
    "  for url in lista_url_pri:\n",
    "    llaveDic=f'{username}_{url}'\n",
    "    dict_url=dictBytes_a_dictString(r.hgetall(llaveDic))\n",
    "    \n",
    "    cat=dict_url['categoria']\n",
    "    url_corta=dict_url['url_corta']\n",
    "\n",
    "    if not categorias_pri.get(cat):\n",
    "      categorias_pri[cat]=[url_corta]\n",
    "    else:\n",
    "      categorias_pri[cat].append(url_corta)\n",
    "\n",
    "  for url in lista_url_pub:\n",
    "    llaveDic=f'{url}'\n",
    "    dict_url=dictBytes_a_dictString(r.hgetall(llaveDic))\n",
    "    \n",
    "    cat=dict_url['categoria']\n",
    "    url_corta=dict_url['url_corta']\n",
    "\n",
    "    if not categorias_pub.get(cat):\n",
    "      categorias_pub[cat]=[url_corta]\n",
    "    else:\n",
    "      categorias_pub[cat].append(url_corta)\n",
    "  \n",
    "\n",
    "  return categorias_pri,categorias_pub\n",
    "  \n",
    "# def recuperaListasPublicas(username):\n",
    "  \n",
    "#   return \n",
    "\n",
    "recuperaListas('hugol')"
   ]
  },
  {
   "cell_type": "markdown",
   "metadata": {},
   "source": [
    "# Borrar ligas de user"
   ]
  },
  {
   "cell_type": "code",
   "execution_count": 107,
   "metadata": {},
   "outputs": [
    {
     "name": "stdout",
     "output_type": "stream",
     "text": [
      "hugol_youtube.com\n"
     ]
    },
    {
     "data": {
      "text/plain": [
       "[b'hugol_youtube1.com', b'hugol', b'lpriv_hugol']"
      ]
     },
     "execution_count": 107,
     "metadata": {},
     "output_type": "execute_result"
    }
   ],
   "source": [
    "# Reseteamos la BD para hacer pruebas\n",
    "r.flushdb()\n",
    "\n",
    "# Agregamos registros\n",
    "agregarUser('hugol','hugo','1234')\n",
    "add_liga_privada_user('hugol','youtube.com','musica')\n",
    "add_liga_privada_user('hugol','youtube2.com','musica')\n",
    "add_liga_privada_user('hugol','youtube1.com','educacion')\n",
    "\n",
    "add_liga_publica_user('hugol','reddit.com','social')\n",
    "add_liga_publica_user('hugol','reddit1.com','social')\n",
    "\n",
    "\n",
    "# Delete\n",
    "def borrar_liga_priv(username, url_corta):\n",
    "\n",
    "    for url_larga in r.smembers(f\"lpriv_{username}\"):\n",
    "\n",
    "        dicc_nombre = f\"{username}_{url_larga.decode('utf-8')}\"\n",
    "        url_corta1 = r.hget(dicc_nombre, \"url_corta\")\n",
    "\n",
    "        if url_corta == url_corta1.decode(\"utf-8\"):\n",
    "            # Se quita la liga del conjunto lpriv_username\n",
    "            r.srem(f\"lpriv_{username}\", url_larga)\n",
    "\n",
    "            # Se elimina el diccionario con llave dicc_nombre\n",
    "            r.delete(dicc_nombre)\n",
    "\n",
    "            break  # Termina el loop si ya se encontró\n",
    "\n",
    "    return True\n",
    "\n",
    "\n",
    "def borrar_liga_pub(username, url_corta):\n",
    "\n",
    "    for url_larga in r.smembers(f\"{username}_pub\"):\n",
    "\n",
    "        dicc_nombre = f\"{url_larga.decode('utf-8')}\"\n",
    "        url_corta1 = r.hget(dicc_nombre, \"url_corta\")\n",
    "\n",
    "        if url_corta == url_corta1.decode(\"utf-8\"):\n",
    "            # Se quita la liga del conjunto username_pub\n",
    "            r.srem(f\"{username}_pub\", url_larga)\n",
    "\n",
    "            # Se quita del conjunto url\n",
    "            r.srem(\"urls\", url_larga)\n",
    "\n",
    "            # Se elimina el diccionario con llave dicc_nombre\n",
    "            r.delete(dicc_nombre)\n",
    "\n",
    "            break  # termina el loop si ya se encontró\n",
    "\n",
    "    return True\n",
    "\n",
    "# Función que elimina una liga especificando si es publica\n",
    "def borrar_liga(username, url_corta, publico=True):\n",
    "    if publico:\n",
    "        return borrar_liga_pub(username, url_corta)\n",
    "\n",
    "    return borrar_liga_priv(username, url_corta)\n",
    "\n",
    "\n",
    "# Hacemos pruebas\n",
    "username='hugol'\n",
    "print(recuperaListas(f'{username}'))\n",
    "u1='https://bit.ly/TeTI'\n",
    "print(borrar_liga(username,u1,publico=True))\n",
    "# print(recuperaListas(f'{username}'))\n",
    "u2='https://bit.ly/y7Dw'\n",
    "print(borrar_liga(username,u2,publico=False))\n",
    "print(recuperaListas('hugol'))"
   ]
  },
  {
   "cell_type": "markdown",
   "metadata": {},
   "source": [
    "# Actualizar ligas user"
   ]
  },
  {
   "cell_type": "code",
   "execution_count": 43,
   "metadata": {},
   "outputs": [
    {
     "data": {
      "text/plain": [
       "0"
      ]
     },
     "execution_count": 43,
     "metadata": {},
     "output_type": "execute_result"
    }
   ],
   "source": [
    "# Update\n",
    "\n",
    "def actualizarLiga(username,liga,categoria_nueva):\n",
    "  # Si solo se cambia de categoría se deja la entrada\n",
    "  # if categoria_nueva=='publica':\n",
    "  #   borrarLiga(username, liga)\n",
    "  #   add_liga_publica_user(username,liga_nueva)\n",
    "  \n",
    "  # elif not liga_nueva:\n",
    "  \n",
    "  # # Primero se borra \n",
    "  # borrarLiga(username,liga_vieja)\n",
    "  # # Luego se crea un elemento nuevo\n",
    "  # add_liga_privada_user(username,url_larga=liga_nueva,categoria=categoria_nueva)\n",
    "  key_liga=f'{username}_{liga}'\n",
    "  exito=r.hset(name=key_liga,key='categoria',value=categoria_nueva)\n",
    "\n",
    "  return exito\n",
    "\n",
    "actualizarLiga('hugol','youtube1.com','wishlist')"
   ]
  },
  {
   "cell_type": "code",
   "execution_count": 44,
   "metadata": {},
   "outputs": [
    {
     "data": {
      "text/plain": [
       "{'wishlist': ['https://bit.ly/36Yvv9W'],\n",
       " 'musica': ['https://bit.ly/36Yvv9W', 'https://bit.ly/36Yvv9W'],\n",
       " 'social': ['https://bit.ly/36Yvv9W']}"
      ]
     },
     "execution_count": 44,
     "metadata": {},
     "output_type": "execute_result"
    }
   ],
   "source": [
    "recuperaListas('hugol')"
   ]
  },
  {
   "cell_type": "code",
   "execution_count": null,
   "metadata": {},
   "outputs": [],
   "source": []
  }
 ],
 "metadata": {
  "interpreter": {
   "hash": "684b1123683431d89d3bfe9a89cc763215f4b8cd94b4aba1fb40ad45ff7c8b41"
  },
  "kernelspec": {
   "display_name": "Python 3.7.9 64-bit",
   "language": "python",
   "name": "python3"
  },
  "language_info": {
   "codemirror_mode": {
    "name": "ipython",
    "version": 3
   },
   "file_extension": ".py",
   "mimetype": "text/x-python",
   "name": "python",
   "nbconvert_exporter": "python",
   "pygments_lexer": "ipython3",
   "version": "3.10.1"
  },
  "orig_nbformat": 4
 },
 "nbformat": 4,
 "nbformat_minor": 2
}
